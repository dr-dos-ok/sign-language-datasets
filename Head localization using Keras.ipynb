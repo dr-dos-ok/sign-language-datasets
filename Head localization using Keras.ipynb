{
 "cells": [
  {
   "cell_type": "code",
   "execution_count": null,
   "metadata": {},
   "outputs": [],
   "source": [
    "import metadata\n",
    "import os\n",
    "\n",
    "basepath='/media/data/datasets/sign/rwth-boston-104'\n",
    "basepath='/data/datasets/rwth-boston-104'\n",
    "\n",
    "\n",
    "\n",
    "\n"
   ]
  },
  {
   "cell_type": "code",
   "execution_count": null,
   "metadata": {},
   "outputs": [],
   "source": [
    "import numpy as np\n",
    "import skimage.io as io\n",
    "import skimage\n",
    "\n",
    "def read_boston104_dataset(basepath):\n",
    "    video_positions_filepath=os.path.join(basepath,'handpositions/boston104.handpositions.rybach-forster-dreuw-2009-09-25.full.xml')\n",
    "    images_path=os.path.join(basepath,'png-segments')\n",
    "    frames=metadata.parse_videos_to_images(video_positions_filepath)\n",
    "    sub_image=np.array([0,240,10,326])\n",
    "    n=len(frames)\n",
    "    h,w=(sub_image[1]-sub_image[0],sub_image[3]-sub_image[2])\n",
    "    data=np.zeros((n,h,w))\n",
    "    for (i,frame) in enumerate(frames):\n",
    "        data[i,:,:]=read_boston104_image(images_path,frame,sub_image)\n",
    "        if i %1000==0:\n",
    "            print(\"%d/%d\" % (i,n))\n",
    "        \n",
    "        \n",
    "    return data,frames\n",
    "    \n",
    "def read_boston104_image(images_path,frame,w):\n",
    "    frame_id=frame.frame\n",
    "    video_id=frame.video\n",
    "    filename=\"frame%s_cam0.png\" % str(frame_id).zfill(6)\n",
    "    image_path=os.path.join(images_path,str(video_id).zfill(3),filename)\n",
    "    image=io.imread(image_path)\n",
    "\n",
    "    image=skimage.color.rgb2grey(image)\n",
    "    \n",
    "    image=image[w[0]:w[1],w[2]:w[3]]\n",
    "    return image\n",
    "\n",
    "\n",
    "\n",
    "x,frames=read_boston104_dataset(basepath)\n",
    "x =x.reshape(x.shape[0], 1, x.shape[1], x.shape[2])\n",
    "\n",
    "rx,ry=30,21\n",
    "y_dim=rex*ry\n",
    "y=np.zeros((n,y_dim))\n",
    "for (i,f) in enumerate(frames):\n",
    "    \n",
    "    y[i,:]=\n",
    "    \n",
    "# implement iterator like https://github.com/fizyr/keras-retinanet/blob/master/keras_retinanet/preprocessing/pascal_voc.py    \n"
   ]
  },
  {
   "cell_type": "code",
   "execution_count": null,
   "metadata": {},
   "outputs": [],
   "source": [
    "from keras.models import Sequential\n",
    "\n",
    "model = Sequential()\n",
    "\n",
    "\n",
    "\n",
    "\n"
   ]
  }
 ],
 "metadata": {
  "kernelspec": {
   "display_name": "Python 3",
   "language": "python",
   "name": "python3"
  },
  "language_info": {
   "codemirror_mode": {
    "name": "ipython",
    "version": 3
   },
   "file_extension": ".py",
   "mimetype": "text/x-python",
   "name": "python",
   "nbconvert_exporter": "python",
   "pygments_lexer": "ipython3",
   "version": "3.5.2"
  }
 },
 "nbformat": 4,
 "nbformat_minor": 2
}
